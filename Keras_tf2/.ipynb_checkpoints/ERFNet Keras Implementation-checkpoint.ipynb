{
 "cells": [
  {
   "cell_type": "markdown",
   "metadata": {},
   "source": [
    "# Imports"
   ]
  },
  {
   "cell_type": "code",
   "execution_count": 1,
   "metadata": {},
   "outputs": [
    {
     "name": "stdout",
     "output_type": "stream",
     "text": [
      "Tensorflow version = 2.0.0-beta1\n",
      "Keras version = 2.2.4-tf\n"
     ]
    }
   ],
   "source": [
    "from __future__ import absolute_import, division, print_function, unicode_literals\n",
    "\n",
    "import tensorflow as tf\n",
    "from tensorflow.keras import layers\n",
    "from tensorflow.keras import Model\n",
    "\n",
    "print(\"Tensorflow version =\",tf.__version__)\n",
    "print(\"Keras version =\",tf.keras.__version__)"
   ]
  },
  {
   "cell_type": "markdown",
   "metadata": {},
   "source": [
    "# Prepare Data"
   ]
  },
  {
   "cell_type": "markdown",
   "metadata": {},
   "source": [
    "# Define Model"
   ]
  },
  {
   "cell_type": "markdown",
   "metadata": {},
   "source": [
    "## Define Custom Layers"
   ]
  },
  {
   "cell_type": "markdown",
   "metadata": {},
   "source": [
    "### DownsamplerBlock\n",
    "- **Desc**:\n",
    "- **Status**: Work in progress\n",
    "- **TODO**:"
   ]
  },
  {
   "cell_type": "code",
   "execution_count": 7,
   "metadata": {},
   "outputs": [],
   "source": [
    "class DownsamplerBlock (tf.keras.Model):\n",
    "\n",
    "  def __init__(self, ninput, noutput):\n",
    "    super(DownsamplerBlock,self).__init__(name='downsampler')\n",
    "    \n",
    "    self.conv = tf.keras.layers.Conv2D(filters=noutput-ninput,kernel_size=3,strides=2,padding=\"same\", use_bias=True)\n",
    "    self.pool = tf.keras.layers.MaxPool2D(pool_size = 2,strides = 2,padding = \"same\")\n",
    "    self.bn = tf.keras.layers.BatchNormalization(epsilon = 1e-03)\n",
    "    \n",
    "    \n",
    "  def call(self, x):\n",
    "    y = tf.keras.layers.Concatenate([self.conv(x), self.pool(x)],axis=-1)\n",
    "    y = self.bn(y)\n",
    "    y = tf.keras.layers.ReLU(y)\n",
    "    return y"
   ]
  },
  {
   "cell_type": "code",
   "execution_count": 8,
   "metadata": {
    "scrolled": true
   },
   "outputs": [],
   "source": [
    "model = DownsamplerBlock(3,16)"
   ]
  },
  {
   "cell_type": "code",
   "execution_count": 9,
   "metadata": {},
   "outputs": [
    {
     "ename": "ValueError",
     "evalue": "This model has not yet been built. Build the model first by calling `build()` or calling `fit()` with some data, or specify an `input_shape` argument in the first layer(s) for automatic build.",
     "output_type": "error",
     "traceback": [
      "\u001b[0;31m---------------------------------------------------------------------------\u001b[0m",
      "\u001b[0;31mValueError\u001b[0m                                Traceback (most recent call last)",
      "\u001b[0;32m<ipython-input-9-5f15418b3570>\u001b[0m in \u001b[0;36m<module>\u001b[0;34m\u001b[0m\n\u001b[0;32m----> 1\u001b[0;31m \u001b[0mmodel\u001b[0m\u001b[0;34m.\u001b[0m\u001b[0msummary\u001b[0m\u001b[0;34m(\u001b[0m\u001b[0;34m)\u001b[0m\u001b[0;34m\u001b[0m\u001b[0;34m\u001b[0m\u001b[0m\n\u001b[0m",
      "\u001b[0;32m~/anaconda3/envs/tf2/lib/python3.6/site-packages/tensorflow/python/keras/engine/network.py\u001b[0m in \u001b[0;36msummary\u001b[0;34m(self, line_length, positions, print_fn)\u001b[0m\n\u001b[1;32m   1493\u001b[0m     \"\"\"\n\u001b[1;32m   1494\u001b[0m     \u001b[0;32mif\u001b[0m \u001b[0;32mnot\u001b[0m \u001b[0mself\u001b[0m\u001b[0;34m.\u001b[0m\u001b[0mbuilt\u001b[0m\u001b[0;34m:\u001b[0m\u001b[0;34m\u001b[0m\u001b[0;34m\u001b[0m\u001b[0m\n\u001b[0;32m-> 1495\u001b[0;31m       raise ValueError('This model has not yet been built. '\n\u001b[0m\u001b[1;32m   1496\u001b[0m                        \u001b[0;34m'Build the model first by calling `build()` or calling '\u001b[0m\u001b[0;34m\u001b[0m\u001b[0;34m\u001b[0m\u001b[0m\n\u001b[1;32m   1497\u001b[0m                        \u001b[0;34m'`fit()` with some data, or specify '\u001b[0m\u001b[0;34m\u001b[0m\u001b[0;34m\u001b[0m\u001b[0m\n",
      "\u001b[0;31mValueError\u001b[0m: This model has not yet been built. Build the model first by calling `build()` or calling `fit()` with some data, or specify an `input_shape` argument in the first layer(s) for automatic build."
     ]
    }
   ],
   "source": [
    "model.summary()"
   ]
  },
  {
   "cell_type": "code",
   "execution_count": 11,
   "metadata": {},
   "outputs": [
    {
     "name": "stdout",
     "output_type": "stream",
     "text": [
      "Failed to import pydot. You must install pydot and graphviz for `pydotprint` to work.\n"
     ]
    }
   ],
   "source": [
    "tf.keras.utils.plot_model(model, 'downs.png')"
   ]
  },
  {
   "cell_type": "code",
   "execution_count": null,
   "metadata": {},
   "outputs": [],
   "source": []
  },
  {
   "cell_type": "markdown",
   "metadata": {},
   "source": [
    "### UpsamplerBlock\n",
    "- **Desc**:\n",
    "- **Status**: Work in progress\n",
    "- **TODO**:"
   ]
  },
  {
   "cell_type": "code",
   "execution_count": null,
   "metadata": {},
   "outputs": [],
   "source": [
    "class UpsamplerBlock (nn.Module):\n",
    "    def __init__(self, ninput, noutput):\n",
    "        super().__init__()\n",
    "        self.conv = nn.ConvTranspose2d(ninput, noutput, 3, stride=2, padding=1, output_padding=1, bias=True)\n",
    "        self.bn = nn.BatchNorm2d(noutput, eps=1e-3)\n",
    "\n",
    "    def forward(self, input):\n",
    "        output = self.conv(input)\n",
    "        output = self.bn(output)\n",
    "        return F.relu(output)"
   ]
  },
  {
   "cell_type": "markdown",
   "metadata": {},
   "source": [
    "### non_bottleneck_1d\n",
    "- **Desc**:\n",
    "- **Status**: Work in progress\n",
    "- **TODO**:"
   ]
  },
  {
   "cell_type": "code",
   "execution_count": null,
   "metadata": {},
   "outputs": [],
   "source": [
    "class non_bottleneck_1d (nn.Module):\n",
    "    def __init__(self, chann, dropprob, dilated):        \n",
    "        super().__init__()\n",
    "\n",
    "        self.conv3x1_1 = nn.Conv2d(chann, chann, (3, 1), stride=1, padding=(1,0), bias=True)\n",
    "\n",
    "        self.conv1x3_1 = nn.Conv2d(chann, chann, (1,3), stride=1, padding=(0,1), bias=True)\n",
    "\n",
    "        self.bn1 = nn.BatchNorm2d(chann, eps=1e-03)\n",
    "\n",
    "        self.conv3x1_2 = nn.Conv2d(chann, chann, (3, 1), stride=1, padding=(1*dilated,0), bias=True, dilation = (dilated,1))\n",
    "\n",
    "        self.conv1x3_2 = nn.Conv2d(chann, chann, (1,3), stride=1, padding=(0,1*dilated), bias=True, dilation = (1, dilated))\n",
    "\n",
    "        self.bn2 = nn.BatchNorm2d(chann, eps=1e-03)\n",
    "\n",
    "        self.dropout = nn.Dropout2d(dropprob)\n",
    "        \n",
    "\n",
    "    def forward(self, input):\n",
    "\n",
    "        output = self.conv3x1_1(input)\n",
    "        output = F.relu(output)\n",
    "        output = self.conv1x3_1(output)\n",
    "        output = self.bn1(output)\n",
    "        output = F.relu(output)\n",
    "\n",
    "        output = self.conv3x1_2(output)\n",
    "        output = F.relu(output)\n",
    "        output = self.conv1x3_2(output)\n",
    "        output = self.bn2(output)\n",
    "\n",
    "        if (self.dropout.p != 0):\n",
    "            output = self.dropout(output)\n",
    "        \n",
    "        return F.relu(output+input)    #+input = identity (residual connection)"
   ]
  },
  {
   "cell_type": "markdown",
   "metadata": {},
   "source": [
    "### Encoder\n",
    "- **Desc**:\n",
    "- **Status**: Work in progress\n",
    "- **TODO**:"
   ]
  },
  {
   "cell_type": "code",
   "execution_count": null,
   "metadata": {},
   "outputs": [],
   "source": [
    "class Encoder(nn.Module):\n",
    "    def __init__(self, num_classes):\n",
    "        super().__init__()\n",
    "        self.initial_block = DownsamplerBlock(3,16)\n",
    "\n",
    "        self.layers = nn.ModuleList()\n",
    "\n",
    "        self.layers.append(DownsamplerBlock(16,64))\n",
    "\n",
    "        for x in range(0, 5):    #5 times\n",
    "           self.layers.append(non_bottleneck_1d(64, 0.03, 1)) \n",
    "\n",
    "        self.layers.append(DownsamplerBlock(64,128))\n",
    "\n",
    "        for x in range(0, 2):    #2 times\n",
    "            self.layers.append(non_bottleneck_1d(128, 0.3, 2))\n",
    "            self.layers.append(non_bottleneck_1d(128, 0.3, 4))\n",
    "            self.layers.append(non_bottleneck_1d(128, 0.3, 8))\n",
    "            self.layers.append(non_bottleneck_1d(128, 0.3, 16))\n",
    "\n",
    "        #Only in encoder mode:\n",
    "        self.output_conv = nn.Conv2d(128, num_classes, 1, stride=1, padding=0, bias=True)\n",
    "\n",
    "    def forward(self, input, predict=False):\n",
    "        output = self.initial_block(input)\n",
    "\n",
    "        for layer in self.layers:\n",
    "            output = layer(output)\n",
    "\n",
    "        if predict:\n",
    "            output = self.output_conv(output)\n",
    "\n",
    "        return output"
   ]
  },
  {
   "cell_type": "markdown",
   "metadata": {},
   "source": [
    "### Decoder\n",
    "- **Desc**:\n",
    "- **Status**: Work in progress\n",
    "- **TODO**:"
   ]
  },
  {
   "cell_type": "code",
   "execution_count": null,
   "metadata": {},
   "outputs": [],
   "source": [
    "class Decoder (nn.Module):\n",
    "    def __init__(self, num_classes):\n",
    "        super().__init__()\n",
    "\n",
    "        self.layers = nn.ModuleList()\n",
    "\n",
    "        self.layers.append(UpsamplerBlock(128,64))\n",
    "        self.layers.append(non_bottleneck_1d(64, 0, 1))\n",
    "        self.layers.append(non_bottleneck_1d(64, 0, 1))\n",
    "\n",
    "        self.layers.append(UpsamplerBlock(64,16))\n",
    "        self.layers.append(non_bottleneck_1d(16, 0, 1))\n",
    "        self.layers.append(non_bottleneck_1d(16, 0, 1))\n",
    "\n",
    "        self.output_conv = nn.ConvTranspose2d( 16, num_classes, 2, stride=2, padding=0, output_padding=0, bias=True)\n",
    "\n",
    "    def forward(self, input):\n",
    "        output = input\n",
    "\n",
    "        for layer in self.layers:\n",
    "            output = layer(output)\n",
    "\n",
    "        output = self.output_conv(output)\n",
    "\n",
    "        return output"
   ]
  },
  {
   "cell_type": "markdown",
   "metadata": {},
   "source": [
    "## Define Custom Model"
   ]
  },
  {
   "cell_type": "code",
   "execution_count": null,
   "metadata": {},
   "outputs": [],
   "source": [
    "class Net(nn.Module):\n",
    "    def __init__(self, num_classes, encoder=None):  #use encoder to pass pretrained encoder\n",
    "        super().__init__()\n",
    "\n",
    "        if (encoder == None):\n",
    "            self.encoder = Encoder(num_classes)\n",
    "        else:\n",
    "            self.encoder = encoder\n",
    "        self.decoder = Decoder(num_classes)\n",
    "\n",
    "    def forward(self, input, only_encode=False):\n",
    "        if only_encode:\n",
    "            return self.encoder.forward(input, predict=True)\n",
    "        else:\n",
    "            output = self.encoder(input)    #predict=False by default\n",
    "            return self.decoder.forward(output)"
   ]
  },
  {
   "cell_type": "markdown",
   "metadata": {},
   "source": [
    "# Train Model"
   ]
  },
  {
   "cell_type": "markdown",
   "metadata": {},
   "source": [
    "# Evaluate Model"
   ]
  },
  {
   "cell_type": "markdown",
   "metadata": {},
   "source": [
    "## Quantitave results"
   ]
  },
  {
   "cell_type": "markdown",
   "metadata": {},
   "source": [
    "## Qualitative results"
   ]
  },
  {
   "cell_type": "markdown",
   "metadata": {},
   "source": [
    "# Use Model"
   ]
  },
  {
   "cell_type": "code",
   "execution_count": null,
   "metadata": {},
   "outputs": [],
   "source": []
  }
 ],
 "metadata": {
  "kernelspec": {
   "display_name": "Python 3",
   "language": "python",
   "name": "python3"
  },
  "language_info": {
   "codemirror_mode": {
    "name": "ipython",
    "version": 3
   },
   "file_extension": ".py",
   "mimetype": "text/x-python",
   "name": "python",
   "nbconvert_exporter": "python",
   "pygments_lexer": "ipython3",
   "version": "3.6.8"
  }
 },
 "nbformat": 4,
 "nbformat_minor": 2
}
