{
 "cells": [
  {
   "cell_type": "code",
   "execution_count": 2,
   "metadata": {
    "ExecuteTime": {
     "end_time": "2019-07-08T12:27:58.697992Z",
     "start_time": "2019-07-08T12:27:57.610260Z"
    }
   },
   "outputs": [
    {
     "name": "stdout",
     "output_type": "stream",
     "text": [
      "Tensorflow version = 2.0.0-beta1\n",
      "Keras version = 2.2.4-tf\n"
     ]
    }
   ],
   "source": [
    "from __future__ import absolute_import, division, print_function, unicode_literals\n",
    "\n",
    "import tensorflow as tf\n",
    "from tensorflow.keras import layers\n",
    "from tensorflow.keras import Model\n",
    "\n",
    "print(\"Tensorflow version =\",tf.__version__)\n",
    "print(\"Keras version =\",tf.keras.__version__)"
   ]
  },
  {
   "cell_type": "code",
   "execution_count": 3,
   "metadata": {
    "ExecuteTime": {
     "end_time": "2019-07-08T12:27:58.708134Z",
     "start_time": "2019-07-08T12:27:58.699725Z"
    }
   },
   "outputs": [],
   "source": [
    "class non_bottleneck_1d (Model):\n",
    "    def __init__(self, chann, dropprob, dilated):        \n",
    "        super(non_bottleneck_1d,self).__init__()\n",
    "        self.conv3x1_1 = layers.Conv2D(filters=chann,kernel_size=(3, 1),strides=1,padding=\"same\", use_bias=True)\n",
    "        self.conv1x3_1 = layers.Conv2D(filters=chann,kernel_size=(1, 3),strides=1,padding=\"same\", use_bias=True)\n",
    "        self.bn1 = layers.BatchNormalization(epsilon=1e-3)\n",
    "        self.conv3x1_2 = layers.Conv2D(filters=chann,kernel_size=(3, 1),strides=1,padding=\"same\", use_bias=True, dilation_rate=(dilated,1))\n",
    "        self.conv1x3_2 = layers.Conv2D(filters=chann,kernel_size=(1, 3),strides=1,padding=\"same\", use_bias=True, dilation_rate=(1, dilated))\n",
    "        self.bn2 = layers.BatchNormalization(epsilon=1e-3)\n",
    "        self.dropout = layers.Dropout(dropprob)\n",
    "    def  call(self, input, training=False):\n",
    "        y = self.conv3x1_1(input)\n",
    "        y = layers.ReLU()(y)\n",
    "        y = self.conv1x3_1(y)\n",
    "        y = self.bn1(y)\n",
    "        y = layers.ReLU()(y)\n",
    "        y = self.conv3x1_2(y)\n",
    "        y = layers.ReLU()(y)\n",
    "        y = self.conv1x3_2(y)\n",
    "        y = self.bn2(y)\n",
    "        if training:\n",
    "            y = self.dropout(y)\n",
    "        y = layers.add([input, y])\n",
    "        return layers.ReLU()(y)"
   ]
  },
  {
   "cell_type": "code",
   "execution_count": null,
   "metadata": {
    "ExecuteTime": {
     "start_time": "2019-07-08T12:27:59.439Z"
    }
   },
   "outputs": [],
   "source": [
    "encoder_input = tf.keras.Input(shape=(1280, 720, 3), name='original_img')\n",
    "#Down sampler block 3,16\n",
    "a = layers.Conv2D(filters=16-3,kernel_size=3,strides=2,padding=\"same\", use_bias=True)(encoder_input)\n",
    "b = layers.MaxPool2D(pool_size = 2,strides = 2,padding = \"same\")(encoder_input)\n",
    "y = layers.concatenate([a, b],axis=-1)\n",
    "y = layers.BatchNormalization(axis = -1, epsilon = 1e-03)(y)\n",
    "y = layers.ReLU()(y)\n",
    "#Down sampler block 16, 64\n",
    "c = layers.Conv2D(filters=64-16,kernel_size=3,strides=2,padding=\"same\", use_bias=True)(y)\n",
    "d = layers.MaxPool2D(pool_size = 2,strides = 2,padding = \"same\")(y)\n",
    "y = layers.concatenate([a, b],axis=-1)\n",
    "y = layers.BatchNormalization(axis = -1, epsilon = 1e-03)(y)\n",
    "y = layers.ReLU()(y)\n",
    "#Non bottleneck 64\n",
    "for i in range (0,5):\n",
    "    y = non_bottleneck_1d(64, 0.03, 1)(y)\n",
    "#Down sampler block 64, 128\n",
    "e = layers.Conv2D(filters=128-64,kernel_size=3,strides=2,padding=\"same\", use_bias=True)(y)\n",
    "f = layers.MaxPool2D(pool_size = 2,strides = 2,padding = \"same\")(y)\n",
    "y = layers.concatenate([a, b],axis=-1)\n",
    "y = layers.BatchNormalization(axis = -1, epsilon = 1e-03)(y)\n",
    "y = layers.ReLU()(y)\n",
    "#Non bottleneck 128\n",
    "for i in range (0,2):\n",
    "    y = non_bottleneck_1d(128, 0.3, 2)(y)\n",
    "    y = non_bottleneck_1d(128, 0.3, 4)(y)\n",
    "    y = non_bottleneck_1d(128, 0.3, 8)(y)\n",
    "    y = non_bottleneck_1d(128, 0.3, 16)(y)\n",
    "encoder_output = y\n",
    "encoder = tf.keras.Model(encoder_input, encoder_output, name='encoder')\n",
    "encoder.summary()\n",
    "tf.keras.utils.plot_model(encoder, 'encoder.png', show_shapes=True, expand_nested=True)"
   ]
  },
  {
   "cell_type": "code",
   "execution_count": 1,
   "metadata": {
    "ExecuteTime": {
     "end_time": "2019-07-08T12:27:53.423455Z",
     "start_time": "2019-07-08T12:27:53.364914Z"
    }
   },
   "outputs": [
    {
     "ename": "NameError",
     "evalue": "name 'tf' is not defined",
     "output_type": "error",
     "traceback": [
      "\u001b[0;31m---------------------------------------------------------------------------\u001b[0m",
      "\u001b[0;31mNameError\u001b[0m                                 Traceback (most recent call last)",
      "\u001b[0;32m<ipython-input-1-46ee71946a26>\u001b[0m in \u001b[0;36m<module>\u001b[0;34m\u001b[0m\n\u001b[0;32m----> 1\u001b[0;31m \u001b[0mdecoder_input\u001b[0m \u001b[0;34m=\u001b[0m \u001b[0mtf\u001b[0m\u001b[0;34m.\u001b[0m\u001b[0mkeras\u001b[0m\u001b[0;34m.\u001b[0m\u001b[0mInput\u001b[0m\u001b[0;34m(\u001b[0m\u001b[0mshape\u001b[0m\u001b[0;34m=\u001b[0m \u001b[0;34m(\u001b[0m\u001b[0mencoder\u001b[0m\u001b[0;34m.\u001b[0m\u001b[0moutput_shape\u001b[0m\u001b[0;34m[\u001b[0m\u001b[0;36m1\u001b[0m\u001b[0;34m]\u001b[0m\u001b[0;34m,\u001b[0m\u001b[0mencoder\u001b[0m\u001b[0;34m.\u001b[0m\u001b[0moutput_shape\u001b[0m\u001b[0;34m[\u001b[0m\u001b[0;36m2\u001b[0m\u001b[0;34m]\u001b[0m\u001b[0;34m,\u001b[0m \u001b[0mencoder\u001b[0m\u001b[0;34m.\u001b[0m\u001b[0moutput_shape\u001b[0m\u001b[0;34m[\u001b[0m\u001b[0;36m3\u001b[0m\u001b[0;34m]\u001b[0m\u001b[0;34m)\u001b[0m\u001b[0;34m,\u001b[0m \u001b[0mname\u001b[0m\u001b[0;34m=\u001b[0m\u001b[0;34m'filtered_img'\u001b[0m\u001b[0;34m)\u001b[0m\u001b[0;34m\u001b[0m\u001b[0;34m\u001b[0m\u001b[0m\n\u001b[0m\u001b[1;32m      2\u001b[0m \u001b[0;31m#Upsampler Block 64\u001b[0m\u001b[0;34m\u001b[0m\u001b[0;34m\u001b[0m\u001b[0;34m\u001b[0m\u001b[0m\n\u001b[1;32m      3\u001b[0m \u001b[0my\u001b[0m \u001b[0;34m=\u001b[0m \u001b[0mlayers\u001b[0m\u001b[0;34m.\u001b[0m\u001b[0mConv2DTranspose\u001b[0m\u001b[0;34m(\u001b[0m\u001b[0mfilters\u001b[0m\u001b[0;34m=\u001b[0m\u001b[0;36m64\u001b[0m\u001b[0;34m,\u001b[0m \u001b[0mkernel_size\u001b[0m\u001b[0;34m=\u001b[0m\u001b[0;36m3\u001b[0m\u001b[0;34m,\u001b[0m \u001b[0mstrides\u001b[0m\u001b[0;34m=\u001b[0m\u001b[0;36m2\u001b[0m\u001b[0;34m,\u001b[0m \u001b[0mpadding\u001b[0m\u001b[0;34m=\u001b[0m\u001b[0;34m\"same\"\u001b[0m\u001b[0;34m,\u001b[0m \u001b[0moutput_padding\u001b[0m\u001b[0;34m=\u001b[0m\u001b[0;36m1\u001b[0m\u001b[0;34m,\u001b[0m \u001b[0muse_bias\u001b[0m\u001b[0;34m=\u001b[0m\u001b[0;32mTrue\u001b[0m\u001b[0;34m)\u001b[0m\u001b[0;34m(\u001b[0m\u001b[0mdecoder_input\u001b[0m\u001b[0;34m)\u001b[0m\u001b[0;34m\u001b[0m\u001b[0;34m\u001b[0m\u001b[0m\n\u001b[1;32m      4\u001b[0m \u001b[0my\u001b[0m \u001b[0;34m=\u001b[0m \u001b[0mlayers\u001b[0m\u001b[0;34m.\u001b[0m\u001b[0mBatchNormalization\u001b[0m\u001b[0;34m(\u001b[0m\u001b[0mepsilon\u001b[0m\u001b[0;34m=\u001b[0m\u001b[0;36m1e-3\u001b[0m\u001b[0;34m)\u001b[0m\u001b[0;34m(\u001b[0m\u001b[0my\u001b[0m\u001b[0;34m)\u001b[0m\u001b[0;34m\u001b[0m\u001b[0;34m\u001b[0m\u001b[0m\n\u001b[1;32m      5\u001b[0m \u001b[0;31m#Non bottleneck 64, 1 dilation\u001b[0m\u001b[0;34m\u001b[0m\u001b[0;34m\u001b[0m\u001b[0;34m\u001b[0m\u001b[0m\n",
      "\u001b[0;31mNameError\u001b[0m: name 'tf' is not defined"
     ]
    }
   ],
   "source": [
    "decoder_input = tf.keras.Input(shape= (encoder.output_shape[1],encoder.output_shape[2], encoder.output_shape[3]), name='filtered_img')\n",
    "#Upsampler Block 64\n",
    "y = layers.Conv2DTranspose(filters=64, kernel_size=3, strides=2, padding=\"same\", output_padding=1, use_bias=True)(decoder_input)\n",
    "y = layers.BatchNormalization(epsilon=1e-3)(y)\n",
    "#Non bottleneck 64, 1 dilation\n",
    "y = non_bottleneck_1d(64, 0.03, 1)(y)\n",
    "y = non_bottleneck_1d(64, 0.03, 1)(y)\n",
    "#Upsampler Block 16\n",
    "y = layers.Conv2DTranspose(filters=16, kernel_size=3, strides=2, padding=\"same\", output_padding=1, use_bias=True)(y)\n",
    "y = layers.BatchNormalization(epsilon=1e-3)(y)\n",
    "y = layers.ReLU()(y)\n",
    "#Non bottleneck 16, 1 dilation\n",
    "y = non_bottleneck_1d(16, 0.03, 1)(y)\n",
    "y = non_bottleneck_1d(16, 0.03, 1)(y)\n",
    "#Upsampler Block Nb_classes\n",
    "y = layers.Conv2DTranspose(filters=4, kernel_size=3, strides=2, padding=\"same\", output_padding=1, use_bias=True)(y)\n",
    "y = layers.BatchNormalization(epsilon=1e-3)(y)\n",
    "y = layers.ReLU()(y)\n",
    "\n",
    "decoder_output = y\n",
    "decoder = tf.keras.Model(decoder_input, decoder_output, name='decoder')\n",
    "decoder.summary()\n",
    "tf.keras.utils.plot_model(decoder, 'decoder.png', show_shapes=True, expand_nested=True)"
   ]
  }
 ],
 "metadata": {
  "kernelspec": {
   "display_name": "Python 3",
   "language": "python",
   "name": "python3"
  },
  "language_info": {
   "codemirror_mode": {
    "name": "ipython",
    "version": 3
   },
   "file_extension": ".py",
   "mimetype": "text/x-python",
   "name": "python",
   "nbconvert_exporter": "python",
   "pygments_lexer": "ipython3",
   "version": "3.6.8"
  }
 },
 "nbformat": 4,
 "nbformat_minor": 2
}
